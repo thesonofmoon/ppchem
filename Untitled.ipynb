{
 "cells": [
  {
   "cell_type": "code",
   "execution_count": 1,
   "id": "3cea9080",
   "metadata": {},
   "outputs": [
    {
     "name": "stdout",
     "output_type": "stream",
     "text": [
      "hello world\n"
     ]
    }
   ],
   "source": [
    "print('hello world')"
   ]
  },
  {
   "cell_type": "code",
   "execution_count": 8,
   "id": "17f06f9e",
   "metadata": {},
   "outputs": [],
   "source": [
    "atom = 'Oxygen'\n",
    "atomic_number = 8\n",
    "\n",
    "### Your code here\n",
    "output = \"%s%s\" % (atom, atomic_number)\n",
    "\n",
    "assert output == 'Oxygen8'"
   ]
  },
  {
   "cell_type": "code",
   "execution_count": null,
   "id": "ec7527c2",
   "metadata": {},
   "outputs": [],
   "source": []
  }
 ],
 "metadata": {
  "kernelspec": {
   "display_name": "Python 3 (ipykernel)",
   "language": "python",
   "name": "python3"
  },
  "language_info": {
   "codemirror_mode": {
    "name": "ipython",
    "version": 3
   },
   "file_extension": ".py",
   "mimetype": "text/x-python",
   "name": "python",
   "nbconvert_exporter": "python",
   "pygments_lexer": "ipython3",
   "version": "3.11.5"
  }
 },
 "nbformat": 4,
 "nbformat_minor": 5
}
